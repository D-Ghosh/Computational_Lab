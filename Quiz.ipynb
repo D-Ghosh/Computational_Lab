{
 "cells": [
  {
   "cell_type": "code",
   "execution_count": 1,
   "metadata": {},
   "outputs": [],
   "source": [
    "import math as m"
   ]
  },
  {
   "cell_type": "code",
   "execution_count": 3,
   "metadata": {},
   "outputs": [
    {
     "name": "stdout",
     "output_type": "stream",
     "text": [
      "The value of the given integration:  0.636619775813128\n"
     ]
    }
   ],
   "source": [
    "# Simpson's 1/3'rd Rule\n",
    "def f(x):\n",
    "    return m.sin(m.pi*x)\n",
    "\n",
    "a, b, n = 0, 1, 100\n",
    "h = (b-a)/n\n",
    "\n",
    "s_odd = sum([f(a+i*h) for i in range(1, n, 2)])\n",
    "s_even = sum([f(a+i*h) for i in range(2, n-1, 2)])\n",
    "\n",
    "I = (h/3)*(f(a) + f(b) + 4*s_odd + 2*s_even)\n",
    "print('The value of the given integration: ', I)"
   ]
  },
  {
   "cell_type": "code",
   "execution_count": 4,
   "metadata": {},
   "outputs": [
    {
     "name": "stdout",
     "output_type": "stream",
     "text": [
      "The value of the given integration:  8.713273351665935\n"
     ]
    }
   ],
   "source": [
    "# Simpson's 1/3'rd Rule\n",
    "def f(x):\n",
    "    return m.sqrt(3+x**3)\n",
    "\n",
    "a, b, n = 0, 3, 100\n",
    "h = (b-a)/n\n",
    "\n",
    "s_odd = sum([f(a+i*h) for i in range(1, n, 2)])\n",
    "s_even = sum([f(a+i*h) for i in range(2, n-1, 2)])\n",
    "\n",
    "I = (h/3)*(f(a) + f(b) + 4*s_odd + 2*s_even)\n",
    "print('The value of the given integration: ', I)"
   ]
  },
  {
   "cell_type": "code",
   "execution_count": 5,
   "metadata": {},
   "outputs": [
    {
     "name": "stdout",
     "output_type": "stream",
     "text": [
      "The value of the given integration:  0.6362533040379346\n"
     ]
    }
   ],
   "source": [
    "# Trapizoidal Rule\n",
    "def f(x):\n",
    "    return m.sin(m.pi*x)\n",
    "\n",
    "a, b, n = 0, 1, 100\n",
    "h = (b-a)/n\n",
    "\n",
    "s = sum([f(a+i*h) for i in range(1, n-1)])\n",
    "\n",
    "I = (h/2)*(f(a) + f(b) + 2*s)\n",
    "print('The value of the given integration: ', I)"
   ]
  },
  {
   "cell_type": "code",
   "execution_count": 7,
   "metadata": {},
   "outputs": [
    {
     "name": "stdout",
     "output_type": "stream",
     "text": [
      "The value of the given integration:  8.551352494911345\n"
     ]
    }
   ],
   "source": [
    "# Trapizoidal Rule\n",
    "def f(x):\n",
    "    return m.sqrt(3+x**3)\n",
    "\n",
    "a, b, n = 0, 3, 100\n",
    "h = (b-a)/n\n",
    "\n",
    "s = sum([f(a+i*h) for i in range(1, n-1)])\n",
    "\n",
    "I = (h/2)*(f(a) + f(b) + 2*s)\n",
    "print('The value of the given integration: ', I)"
   ]
  },
  {
   "cell_type": "code",
   "execution_count": null,
   "metadata": {},
   "outputs": [],
   "source": []
  }
 ],
 "metadata": {
  "kernelspec": {
   "display_name": "env0",
   "language": "python",
   "name": "python3"
  },
  "language_info": {
   "codemirror_mode": {
    "name": "ipython",
    "version": 3
   },
   "file_extension": ".py",
   "mimetype": "text/x-python",
   "name": "python",
   "nbconvert_exporter": "python",
   "pygments_lexer": "ipython3",
   "version": "3.12.7"
  }
 },
 "nbformat": 4,
 "nbformat_minor": 2
}
