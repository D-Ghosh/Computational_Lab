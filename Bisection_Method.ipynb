{
  "nbformat": 4,
  "nbformat_minor": 0,
  "metadata": {
    "colab": {
      "provenance": []
    },
    "kernelspec": {
      "name": "python3",
      "display_name": "Python 3"
    },
    "language_info": {
      "name": "python"
    }
  },
  "cells": [
    {
      "cell_type": "code",
      "execution_count": null,
      "metadata": {
        "colab": {
          "base_uri": "https://localhost:8080/"
        },
        "id": "2UTshQXznnMi",
        "outputId": "a0a19d20-d776-4f7a-d86a-fd206a9ee7ae"
      },
      "outputs": [
        {
          "output_type": "execute_result",
          "data": {
            "text/plain": [
              "-1.0774731636047363"
            ]
          },
          "metadata": {},
          "execution_count": 1
        }
      ],
      "source": [
        "# BISECTION METHOD:     # BY DEBOPRIYO\n",
        "def bisection(func, a, b, error_tol):\n",
        "  def f(x):\n",
        "    f = eval(func)\n",
        "    return f\n",
        "\n",
        "\n",
        "  while abs(a - b)> error_tol:\n",
        "\n",
        "    c = (a + b) / 2\n",
        "\n",
        "    if f(a)*f(b) >= 0:\n",
        "      print(\"Bisection method fails here\")\n",
        "      quit()\n",
        "    if f(c) * f(a) < 0:\n",
        "      b = c\n",
        "    elif f(c) * f(b) < 0:\n",
        "      a = c\n",
        "    else:\n",
        "      print(\"Something is wrong\")\n",
        "\n",
        "  return c\n",
        "\n",
        "bisection(\"x**5 - 2*x**4 + x**3 + 2*x**2 - x +2\", -1000, 0, 0.0001)"
      ]
    }
  ]
}