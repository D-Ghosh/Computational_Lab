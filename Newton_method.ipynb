{
  "nbformat": 4,
  "nbformat_minor": 0,
  "metadata": {
    "colab": {
      "provenance": []
    },
    "kernelspec": {
      "name": "python3",
      "display_name": "Python 3"
    },
    "language_info": {
      "name": "python"
    }
  },
  "cells": [
    {
      "cell_type": "code",
      "execution_count": 1,
      "metadata": {
        "colab": {
          "base_uri": "https://localhost:8080/"
        },
        "id": "RcZJBaWxoIpO",
        "outputId": "537440aa-d29c-4aa1-8eea-9c03ad194d9c"
      },
      "outputs": [
        {
          "output_type": "execute_result",
          "data": {
            "text/plain": [
              "1.414213562373095"
            ]
          },
          "metadata": {},
          "execution_count": 1
        }
      ],
      "source": [
        "def newton_method(func, funcderiv, x, iterrations):\n",
        "  def f(x):\n",
        "    f = eval(func)\n",
        "    return f\n",
        "\n",
        "  def df(x):\n",
        "    df = eval(funcderiv)\n",
        "    return df\n",
        "\n",
        "  for i in range(iterrations):\n",
        "    a = x - f(x)/df(x)\n",
        "    x = a\n",
        "  return x\n",
        "\n",
        "newton_method(\"x**5 - 3*x**3 + x**2 + 2*x -2\", \"5*x**4 - 9*x**2 + 2*x + 2\", 20, 100)"
      ]
    }
  ]
}