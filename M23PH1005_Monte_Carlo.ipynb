{
 "cells": [
  {
   "cell_type": "code",
   "execution_count": 1,
   "metadata": {},
   "outputs": [],
   "source": [
    "import numpy as np"
   ]
  },
  {
   "cell_type": "code",
   "execution_count": 23,
   "metadata": {},
   "outputs": [
    {
     "data": {
      "text/plain": [
       "0.8674901437331182"
      ]
     },
     "execution_count": 23,
     "metadata": {},
     "output_type": "execute_result"
    }
   ],
   "source": [
    "a, b, c, d, e, g, N, s = -2, 2, 0.5, 1, 0, 1, 100000, 0\n",
    "\n",
    "def f(x, y, z):\n",
    "    return np.exp(-x**2/(2*y))/((x**2)*z + 1)\n",
    "\n",
    "np.random.seed(123528)\n",
    "x = np.random.uniform(a, b, size=N)\n",
    "\n",
    "np.random.seed(12547853)\n",
    "y = np.random.uniform(c, d, size=N)\n",
    "\n",
    "np.random.seed(17458963)\n",
    "z = np.random.uniform(e, g, size=N)\n",
    "\n",
    "for i in range(N):\n",
    "    s = s + f(x[i], y[i], z[i])\n",
    "\n",
    "I1 = (b - a)*(d - c)*(g - e)*(s/N)\n",
    "I1\n"
   ]
  },
  {
   "cell_type": "code",
   "execution_count": 15,
   "metadata": {},
   "outputs": [
    {
     "data": {
      "text/plain": [
       "-0.36128715173865805"
      ]
     },
     "execution_count": 15,
     "metadata": {},
     "output_type": "execute_result"
    }
   ],
   "source": [
    "s = np.mean(f(x[i], y[i], z[i]))\n",
    "\n",
    "I = (a - b)*(d - c)*(g - e)*(s)\n",
    "I"
   ]
  },
  {
   "cell_type": "code",
   "execution_count": 24,
   "metadata": {},
   "outputs": [
    {
     "data": {
      "text/plain": [
       "0.8697048868907513"
      ]
     },
     "execution_count": 24,
     "metadata": {},
     "output_type": "execute_result"
    }
   ],
   "source": [
    "a, b, c, d, e, g, N, s = -2, 2, 0.5, 1, 0, 1, 100000, 0\n",
    "\n",
    "def f(x, y, z):\n",
    "    return np.exp(-x**2/(2*y))/((x**2)*z + 1)\n",
    "\n",
    "np.random.seed(12252368)\n",
    "x = np.random.uniform(a, b, size=N)\n",
    "\n",
    "np.random.seed(1253647853)\n",
    "y = np.random.uniform(c, d, size=N)\n",
    "\n",
    "np.random.seed(1742536963)\n",
    "z = np.random.uniform(e, g, size=N)\n",
    "\n",
    "for i in range(N):\n",
    "    s = s + f(x[i], y[i], z[i])\n",
    "\n",
    "I2 = (b - a)*(d - c)*(g - e)*(s/N)\n",
    "I2\n"
   ]
  },
  {
   "cell_type": "code",
   "execution_count": 28,
   "metadata": {},
   "outputs": [
    {
     "data": {
      "text/plain": [
       "0.8696387897005204"
      ]
     },
     "execution_count": 28,
     "metadata": {},
     "output_type": "execute_result"
    }
   ],
   "source": [
    "a, b, c, d, e, g, N, s = -2, 2, 0.5, 1, 0, 1, 100000, 0\n",
    "\n",
    "def f(x, y, z):\n",
    "    return np.exp(-x**2/(2*y))/((x**2)*z + 1)\n",
    "\n",
    "np.random.seed(12325368)\n",
    "x = np.random.uniform(a, b, size=N)\n",
    "\n",
    "np.random.seed(122537853)\n",
    "y = np.random.uniform(c, d, size=N)\n",
    "\n",
    "np.random.seed(1725368963)\n",
    "z = np.random.uniform(e, g, size=N)\n",
    "\n",
    "for i in range(N):\n",
    "    s = s + f(x[i], y[i], z[i])\n",
    "\n",
    "I3 = (b - a)*(d - c)*(g - e)*(s/N)\n",
    "I3"
   ]
  },
  {
   "cell_type": "code",
   "execution_count": 29,
   "metadata": {},
   "outputs": [
    {
     "data": {
      "text/plain": [
       "0.8689446067747966"
      ]
     },
     "execution_count": 29,
     "metadata": {},
     "output_type": "execute_result"
    }
   ],
   "source": [
    "I = I1 + I2 + I3\n",
    "I/3"
   ]
  },
  {
   "cell_type": "code",
   "execution_count": 35,
   "metadata": {},
   "outputs": [
    {
     "data": {
      "text/plain": [
       "0.8722529683572905"
      ]
     },
     "execution_count": 35,
     "metadata": {},
     "output_type": "execute_result"
    }
   ],
   "source": [
    "a, b, c, d, e, g, N, s, I, n = -2, 2, 0.5, 1, 0, 1, 100000, 0, [], 10\n",
    "\n",
    "def f(x, y, z):\n",
    "    return np.exp(-x**2/(2*y))/((x**2)*z + 1)\n",
    "\n",
    "for _ in range(n):\n",
    "    np.random.seed(1225365368)\n",
    "    x = np.random.uniform(a, b, size=N)\n",
    "\n",
    "    np.random.seed(122537853)\n",
    "    y = np.random.uniform(c, d, size=N)\n",
    "\n",
    "    np.random.seed(172236963)\n",
    "    z = np.random.uniform(e, g, size=N)\n",
    "\n",
    "    for i in range(N):\n",
    "        s = s + f(x[i], y[i], z[i])\n",
    "    I.append((b - a)*(d - c)*(g - e)*(s/N))\n",
    "    s = 0\n",
    "np.sum(I)/n"
   ]
  }
 ],
 "metadata": {
  "kernelspec": {
   "display_name": "env0",
   "language": "python",
   "name": "python3"
  },
  "language_info": {
   "codemirror_mode": {
    "name": "ipython",
    "version": 3
   },
   "file_extension": ".py",
   "mimetype": "text/x-python",
   "name": "python",
   "nbconvert_exporter": "python",
   "pygments_lexer": "ipython3",
   "version": "3.12.7"
  }
 },
 "nbformat": 4,
 "nbformat_minor": 2
}
